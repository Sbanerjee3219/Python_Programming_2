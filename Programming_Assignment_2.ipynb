{
 "cells": [
  {
   "cell_type": "markdown",
   "metadata": {},
   "source": [
    "# Python Programming Basic Assignment\n",
    "## Batch-Full Stack Data Science\n",
    "### Name- Soumyadeep Banerjee"
   ]
  },
  {
   "cell_type": "markdown",
   "metadata": {},
   "source": [
    "#### Qs 1: Write a Python program to convert kilometers to miles?"
   ]
  },
  {
   "cell_type": "code",
   "execution_count": 8,
   "metadata": {},
   "outputs": [
    {
     "name": "stdout",
     "output_type": "stream",
     "text": [
      "Enter Km in numbers: 50\n",
      "Total mile is 31.07\n",
      "Total mile is 31.07\n"
     ]
    }
   ],
   "source": [
    "#1 mile= 1.609344 Km\n",
    "#1 km= 0.621371 Mile\n",
    "n=float(input(\"Enter Km in numbers: \"))\n",
    "print(\"Total mile is {0:.2f}\".format(n*0.621371))#displaying upto two decimal \n",
    "print(f\"Total mile is {n*0.62137:.2f}\")#displaying upto two decimal by using f string"
   ]
  },
  {
   "cell_type": "markdown",
   "metadata": {},
   "source": [
    "#### Qs 2: Write a Python program to convert Celsius to Fahrenheit?"
   ]
  },
  {
   "cell_type": "code",
   "execution_count": 11,
   "metadata": {},
   "outputs": [
    {
     "name": "stdout",
     "output_type": "stream",
     "text": [
      "Enter Celsius temperature35\n",
      "Converted Fahrenheit temperature is 95.00\n"
     ]
    }
   ],
   "source": [
    "# for mula for conversion: T(°F) = T(°C) × 9/5 + 32\n",
    "c=float(input(\"Enter Celsius temperature\"))\n",
    "f=(c*9/5)+32\n",
    "print(f\"Converted Fahrenheit temperature is {f:.2f}\" )"
   ]
  },
  {
   "cell_type": "markdown",
   "metadata": {},
   "source": [
    "#### Qs 3: Write a Python program to display calendar?"
   ]
  },
  {
   "cell_type": "code",
   "execution_count": 15,
   "metadata": {},
   "outputs": [
    {
     "name": "stdout",
     "output_type": "stream",
     "text": [
      "Enter year: 2021\n",
      "Enter month: 3\n",
      "     March 2021\n",
      "Mo Tu We Th Fr Sa Su\n",
      " 1  2  3  4  5  6  7\n",
      " 8  9 10 11 12 13 14\n",
      "15 16 17 18 19 20 21\n",
      "22 23 24 25 26 27 28\n",
      "29 30 31\n",
      "\n"
     ]
    }
   ],
   "source": [
    "#importing Calendar module to display calendar\n",
    "import calendar\n",
    "#Taking input from user to display year, month\n",
    "yy = int(input(\"Enter year: \"))\n",
    "mm = int(input(\"Enter month: \"))\n",
    "print(calendar.month(yy,mm))"
   ]
  },
  {
   "cell_type": "markdown",
   "metadata": {},
   "source": [
    "#### Qs 4:Write a Python program to solve quadratic equation?"
   ]
  },
  {
   "cell_type": "markdown",
   "metadata": {},
   "source": [
    "Rules to solve Quadretic equation:\n",
    "\n",
    "1.If b * b < 4*a*c, then roots are complex\n",
    "\n",
    "2.If b * b == 4*a*c, then roots are real \n",
    "and both roots are same.\n",
    "\n",
    "3.If b * b > 4*a*c, then roots are real \n",
    "and different.\n",
    "\n"
   ]
  },
  {
   "cell_type": "code",
   "execution_count": 31,
   "metadata": {},
   "outputs": [
    {
     "name": "stdout",
     "output_type": "stream",
     "text": [
      "enter first co-efficent1\n",
      "enter second co-efficent10\n",
      "enter third co-efficent-24\n",
      "real and different roots are 2.00 and -12.00\n"
     ]
    }
   ],
   "source": [
    "a=int(input(\"enter first co-efficent\"))\n",
    "b=int(input(\"enter second co-efficent\"))\n",
    "c=int(input(\"enter third co-efficent\"))\n",
    "n = b*b - 4*a*c \n",
    "middle_val= abs(n)**0.5\n",
    "if middle_val>0:\n",
    "    x1=(-b + middle_val)/(2 * a) \n",
    "    x2=(-b - middle_val)/(2 * a)\n",
    "    print(f\"real and different roots are {x1:.2f} and {x2:.2f}\")\n",
    "elif middle_val<0:\n",
    "        print(- b / (2 * a), \" + i\", middle_val)  #1st complex root \n",
    "        print(- b / (2 * a), \" - i\", middle_val) #2nd complex root\n",
    "else:\n",
    "     print(-b / (2 * a))  #Same roots\n",
    "    \n",
    "    "
   ]
  },
  {
   "cell_type": "code",
   "execution_count": 32,
   "metadata": {},
   "outputs": [
    {
     "name": "stdout",
     "output_type": "stream",
     "text": [
      "The roots are: (-12+0j) (2+0j)\n"
     ]
    }
   ],
   "source": [
    "#2nd method \n",
    "import cmath \n",
    "mid_val = (b**2) - (4 * a*c) \n",
    "  \n",
    "# find two results \n",
    "y1 = (-b-cmath.sqrt(mid_val))/(2 * a) \n",
    "y2 = (-b + cmath.sqrt(mid_val))/(2 * a) \n",
    "  \n",
    "# printing the results \n",
    "print(\"The roots are:\", y1,y2) \n"
   ]
  },
  {
   "cell_type": "markdown",
   "metadata": {},
   "source": [
    "#### Qs 5:Write a Python program to swap two variables without temp variable?\n"
   ]
  },
  {
   "cell_type": "code",
   "execution_count": 34,
   "metadata": {},
   "outputs": [
    {
     "name": "stdout",
     "output_type": "stream",
     "text": [
      "swap1\n",
      "swap2\n",
      "before swapping a is swap1 and b is swap2 \n",
      "After swapping a is swap2 and b is swap1 \n"
     ]
    }
   ],
   "source": [
    "a=input()\n",
    "b=input()\n",
    "\n",
    "\n",
    "print(f\"before swapping a is {a} and b is {b} \")\n",
    "a,b=b,a\n",
    "print(f\"After swapping a is {a} and b is {b} \")"
   ]
  },
  {
   "cell_type": "code",
   "execution_count": null,
   "metadata": {},
   "outputs": [],
   "source": []
  }
 ],
 "metadata": {
  "kernelspec": {
   "display_name": "Python 3",
   "language": "python",
   "name": "python3"
  },
  "language_info": {
   "codemirror_mode": {
    "name": "ipython",
    "version": 3
   },
   "file_extension": ".py",
   "mimetype": "text/x-python",
   "name": "python",
   "nbconvert_exporter": "python",
   "pygments_lexer": "ipython3",
   "version": "3.8.3"
  }
 },
 "nbformat": 4,
 "nbformat_minor": 4
}
